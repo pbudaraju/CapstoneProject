{
 "cells": [
  {
   "cell_type": "markdown",
   "metadata": {},
   "source": [
    "# 4.3 Data Wrangling Exercise\n"
   ]
  },
  {
   "cell_type": "markdown",
   "metadata": {},
   "source": [
    "## Submission questions\n",
    "\n",
    "Create a short document (1-2 pages) in your github describing the data wrangling steps that you undertook to clean your capstone project data set. What kind of cleaning steps did you perform? How did you deal with missing values, if any? Were there outliers, and how did you decide to handle them? This document will eventually become part of your milestone report."
   ]
  },
  {
   "cell_type": "markdown",
   "metadata": {},
   "source": [
    "## Approach\n",
    "\n",
    "1. Data exploration (and visualization)\n",
    "2. Data cleaning\n",
    "3. Data transformation\n",
    "\n",
    "This process has been and is expected to be repeated (iterated) as the data analysis demands."
   ]
  },
  {
   "cell_type": "markdown",
   "metadata": {},
   "source": [
    "### Data exploration and cleaning\n",
    "\n",
    "It involved loading the data, checking the data types of different variables, importing packages as necessary. As a part of data exploration, features with missing values ( > 96%) and unknown/missing values have beeb identified. \n",
    "Under data cleaning those columns have been eliminated and missing values were replaced with NaN."
   ]
  },
  {
   "cell_type": "code",
   "execution_count": 1,
   "metadata": {},
   "outputs": [],
   "source": [
    "#import packages\n",
    "import pandas as pd\n",
    "import numpy as np\n",
    "import matplotlib.pyplot as plt"
   ]
  },
  {
   "cell_type": "code",
   "execution_count": 2,
   "metadata": {},
   "outputs": [],
   "source": [
    "#read the data file\n",
    "input_file_name = 'diabetes.csv'\n",
    "rawdata_df = pd.read_csv(input_file_name, na_values = \"?\", engine='python')"
   ]
  },
  {
   "cell_type": "code",
   "execution_count": 3,
   "metadata": {},
   "outputs": [
    {
     "data": {
      "text/plain": [
       "(101766, 50)"
      ]
     },
     "execution_count": 3,
     "metadata": {},
     "output_type": "execute_result"
    }
   ],
   "source": [
    "#shape of the dataframe\n",
    "rawdata_df.shape"
   ]
  },
  {
   "cell_type": "code",
   "execution_count": 4,
   "metadata": {},
   "outputs": [],
   "source": [
    "#make a copy of the dataframe\n",
    "cleandata_df = rawdata_df.copy()\n",
    "\n",
    "#checking for the number of missing values per feature (if > 0)\n",
    "for x in cleandata_df.columns:\n",
    "    is_object = cleandata_df[x].dtype\n",
    "    if (is_object == object and \n",
    "        cleandata_df[x][cleandata_df[x] == '?'].count() > 0):\n",
    "        print(x,': % missing values - ', \n",
    "              cleandata_df[x][cleandata_df[x] == '?'].count()*100/cleandata_df[x].count())"
   ]
  },
  {
   "cell_type": "code",
   "execution_count": 5,
   "metadata": {},
   "outputs": [],
   "source": [
    "#drop the feature 'weight'\n",
    "cleandata_df.drop(['weight'], inplace = True, axis = 1)"
   ]
  },
  {
   "cell_type": "code",
   "execution_count": 6,
   "metadata": {},
   "outputs": [
    {
     "data": {
      "text/plain": [
       "(101766, 49)"
      ]
     },
     "execution_count": 6,
     "metadata": {},
     "output_type": "execute_result"
    }
   ],
   "source": [
    "#check the shape again \n",
    "cleandata_df.shape"
   ]
  },
  {
   "cell_type": "code",
   "execution_count": 7,
   "metadata": {},
   "outputs": [],
   "source": [
    "#replace missing values with NaN\n",
    "cleandata_df.replace('Unknown/Invalid', np.NaN, inplace = True)"
   ]
  },
  {
   "cell_type": "code",
   "execution_count": 8,
   "metadata": {},
   "outputs": [],
   "source": [
    "#checking if '?'s are replaced with NaN\n",
    "for z in cleandata_df.columns:\n",
    "    is_object1 = cleandata_df[z].dtype\n",
    "    if is_object1 == object and cleandata_df[z][cleandata_df[z] == '?'].count() > 0:\n",
    "        print(z, ': % missing values - ', \n",
    "              cleandata_df[z][cleandata_df[z] == '?'].count()*100/cleandata_df[z].count())"
   ]
  },
  {
   "cell_type": "markdown",
   "metadata": {},
   "source": [
    "### Data Transformation\n",
    "\n",
    "Columns where replacement/recoding of values were necessary were identified and replaced with new codes.\n",
    "For example, the column \"Readmitted\" with values \"No\", \">30\", and \"<30\" were replaced with \"0\" for \"No\" and \">30\" and \"1\" for \"<30\"."
   ]
  },
  {
   "cell_type": "code",
   "execution_count": 9,
   "metadata": {},
   "outputs": [],
   "source": [
    "#'Age' feature\n",
    "age_values = {\"age\":{\"[0-10)\": 1, \"[10-20)\": 2, \"[20-30)\": 3, \n",
    "                    \"[30-40)\": 4, \"[40-50)\": 5, \"[50-60)\": 6,\n",
    "                    \"[60-70)\": 7, \"[70-80)\": 8, \"[80-90)\": 9,\n",
    "                    \"[90-100)\": 10}}\n",
    "cleandata_df.replace(age_values, inplace = True)"
   ]
  },
  {
   "cell_type": "code",
   "execution_count": 10,
   "metadata": {},
   "outputs": [
    {
     "data": {
      "text/plain": [
       "NO     54864\n",
       ">30    35545\n",
       "<30    11357\n",
       "Name: readmitted, dtype: int64"
      ]
     },
     "execution_count": 10,
     "metadata": {},
     "output_type": "execute_result"
    }
   ],
   "source": [
    "#checking for number of readmissions within 30 days\n",
    "cleandata_df['readmitted'].value_counts()"
   ]
  },
  {
   "cell_type": "code",
   "execution_count": 11,
   "metadata": {},
   "outputs": [],
   "source": [
    "#converting readmitted < 30 days value to 1 and rest to 0\n",
    "readmitted_values = {\"readmitted\": {\"NO\": 0, \">30\": 0, \"<30\": 1}}\n",
    "cleandata_df.replace(readmitted_values, inplace = True)"
   ]
  },
  {
   "cell_type": "code",
   "execution_count": 12,
   "metadata": {},
   "outputs": [
    {
     "data": {
      "text/plain": [
       "0    90409\n",
       "1    11357\n",
       "Name: readmitted, dtype: int64"
      ]
     },
     "execution_count": 12,
     "metadata": {},
     "output_type": "execute_result"
    }
   ],
   "source": [
    "#checking for new values\n",
    "cleandata_df['readmitted'].value_counts()"
   ]
  },
  {
   "cell_type": "code",
   "execution_count": 13,
   "metadata": {},
   "outputs": [],
   "source": [
    "#writing the dataframe into csv for further analysis\n",
    "output_file_name = \"clean_data_diabetes.csv\"\n",
    "cleandata_df.to_csv(output_file_name, sep = '\\t')"
   ]
  }
 ],
 "metadata": {
  "kernelspec": {
   "display_name": "Python 3",
   "language": "python",
   "name": "python3"
  },
  "language_info": {
   "codemirror_mode": {
    "name": "ipython",
    "version": 3
   },
   "file_extension": ".py",
   "mimetype": "text/x-python",
   "name": "python",
   "nbconvert_exporter": "python",
   "pygments_lexer": "ipython3",
   "version": "3.6.5"
  }
 },
 "nbformat": 4,
 "nbformat_minor": 2
}
